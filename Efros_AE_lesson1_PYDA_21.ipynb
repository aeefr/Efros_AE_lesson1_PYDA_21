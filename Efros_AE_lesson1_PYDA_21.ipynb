{
 "cells": [
  {
   "cell_type": "markdown",
   "metadata": {},
   "source": [
    "### Эфрос Алексей  (доработка по замечаниям)"
   ]
  },
  {
   "cell_type": "markdown",
   "metadata": {},
   "source": [
    "* задача 1 Даны 2 переменных, в которых хранятся строки произвольной длины: phrase_1 и phrase_2.Напишите код, который проверяет какая из этих строк длиннее.\n"
   ]
  },
  {
   "cell_type": "code",
   "execution_count": 5,
   "metadata": {
    "scrolled": true
   },
   "outputs": [
    {
     "name": "stdout",
     "output_type": "stream",
     "text": [
      "Фразы равной длины\n"
     ]
    }
   ],
   "source": [
    "#Фраза 1 длиннее фразы 2\n",
    "#Фразы равной длины\n",
    "#Фраза 2 длиннее фразы 1\n",
    "\n",
    "phrase_1 = 'Насколько проще было бы писать программы, если бы не заказчики'\n",
    "phrase_2 = 'Насколько проще было бы писать программы, если бы не заказчики'\n",
    "if len(phrase_1)==len(phrase_2):\n",
    "    print('Фразы равной длины')\n",
    "elif phrase_1>phrase_2:\n",
    "    print('Фраза 1 длиннее фразы 2')\n",
    "elif phrase_1<phrase_2:   \n",
    "    print('Фраза 2 длиннее фразы 1')"
   ]
  },
  {
   "cell_type": "markdown",
   "metadata": {},
   "source": [
    "* задача 2 Дана переменная, в которой хранится четырехзначное число (год). Необходимо написать программу, которая выведет, является ли данный год високосным или обычным."
   ]
  },
  {
   "cell_type": "code",
   "execution_count": 6,
   "metadata": {},
   "outputs": [
    {
     "name": "stdout",
     "output_type": "stream",
     "text": [
      "Результат: Високосный год\n"
     ]
    }
   ],
   "source": [
    "# Високосный год\n",
    "# Обычный год\n",
    "year = 2020\n",
    "if year % 4 == 0 and year % 100 != 0 or year % 400 == 0:\n",
    "    print('Результат:','Високосный год')\n",
    "else: print('Результат:','Обычный год')"
   ]
  },
  {
   "cell_type": "markdown",
   "metadata": {},
   "source": [
    "* задача 3 Необходимо написать программу, которая будет запрашивать у пользователя месяц и дату рождения и выводить соответствующий знак зодиака."
   ]
  },
  {
   "cell_type": "markdown",
   "metadata": {},
   "source": [
    "Овен\t21\tмарт\t19\tапрель\n",
    "Телец\t20\tапрель\t20\tмай\n",
    "Близнецы\t21\tмай\t20\tиюнь\n",
    "Рак\t21\tиюнь\t22\tиюль\n",
    "Лев\t23\tиюль\t22\tавгуст\n",
    "Дева\t23\tавгуст\t22\tсентябрь\n",
    "Весы\t23\tсентябрь\t22\tоктябрь\n",
    "Скорпион\t23\tоктябрь\t21\tноябрь\n",
    "Стрелец\t22\tноябрь\t21\tдекабрь\n",
    "Козерог\t22\tдекабрь\t19\tянварь\n",
    "Водолей\t20\tянварь\t18\tфевраль\n",
    "Рыбы\t19\tфевраль\t20\tмарт\n",
    "\n"
   ]
  },
  {
   "cell_type": "code",
   "execution_count": 16,
   "metadata": {},
   "outputs": [
    {
     "name": "stdout",
     "output_type": "stream",
     "text": [
      "введите день: 22\n",
      "введите месяц: март\n",
      "Результат:\n",
      "Ваш знак зодиака: Овен\n"
     ]
    }
   ],
   "source": [
    "# ввод даты\n",
    "\n",
    "day = int(input(\"введите день: \"))\n",
    "month = input(\"введите месяц: \").lower()\n",
    "   \n",
    "\n",
    "\n",
    "\n",
    "# сравненение и вывод\n",
    "print ('Результат:')\n",
    "    \n",
    "if (month == 'март' and day>=21) or (month == 'апрель' and day<=19):\n",
    "    print('Ваш знак зодиака:' ,'Овен')\n",
    "elif (month == 'апрель' and day>=20) or (month =='май' and day<=20):\n",
    "    print('Ваш знак зодиака:' ,'Телец')\n",
    "elif (month == 'май' and day>=21) or (month =='июнь' and day<=20):\n",
    "    print('Ваш знак зодиака:' ,'Близнецы')\n",
    "elif (month == 'июнь' and day>=21) or (month =='июль' and day<=22):\n",
    "    print('Ваш знак зодиака:' ,'Рак')\n",
    "elif (month == 'июль' and day>=23) or (month =='август'  and day<=22):\n",
    "    print('Ваш знак зодиака:' ,'Лев')\n",
    "elif (month == 'август' and day>=23) or (month =='сентябрь' and day<=22):\n",
    "    print('Ваш знак зодиака:' ,'Дева')\n",
    "elif (month == 'сентябрь' and day>=23) or (month == 'октябрь' and day<=22):\n",
    "    print('Ваш знак зодиака:' ,'Весы')\n",
    "elif (month == 'октябрь' and day>=23) or (month == 'ноябрь' and day<=21):\n",
    "    print('Ваш знак зодиака:' ,'Скорпион')\n",
    "elif (month == 'ноябрь' and day>=22) or (month == 'декабрь' and day<=21):\n",
    "    print('Ваш знак зодиака:' ,'Стрелец')\n",
    "elif (month == 'декабрь' and day>=22) or (month =='январь' and day<=19):\n",
    "    print('Ваш знак зодиака:' ,'Козерог')\n",
    "elif (month == 'январь' and day>=20) or (month =='февраль' and day<=18):\n",
    "    print('Ваш знак зодиака:' ,'Водолей')\n",
    "elif (month == 'февраль' and day>=19) or (month =='март' and day<=20):\n",
    "    print('Ваш знак зодиака:' ,'Рыбы')\n",
    "    \n",
    "    \n",
    "    "
   ]
  },
  {
   "cell_type": "markdown",
   "metadata": {},
   "source": [
    "* Задание 4 \n",
    "Вам нужно написать программу для подбора упаковок по размерам товара.\n",
    "Размеры хранятся в переменных (в сантиметрах):если каждое из трех измерений менее 15 сантиметров, то выведите на экран “Коробка №1”;если хотя бы одно из измерений больше 15 сантиметров, но менее 50 сантиметров, то выводите “Коробка №2”;если длина товара больше 2 метров, то выводите “Упаковка для лыж”;во всех остальных случаях выводите “Стандартная коробка №3”.width = 10\n",
    "length = 205\n",
    "height = 5\n"
   ]
  },
  {
   "cell_type": "code",
   "execution_count": 33,
   "metadata": {
    "scrolled": true
   },
   "outputs": [
    {
     "name": "stdout",
     "output_type": "stream",
     "text": [
      "Ширина (см): 1\n",
      "Длина (см): 1\n",
      "Высота (см): 1\n",
      "Коробка №1\n"
     ]
    }
   ],
   "source": [
    "width = int(input(\"Ширина (см): \"))\n",
    "lenght = int(input(\"Длина (см): \"))\n",
    "heigt = int(input(\"Высота (см): \"))\n",
    "## условие  “Коробка №1”;если хотя бы одно из измерений больше 15 сантиметров, но менее 50 сантиметров\n",
    "if lenght >200:\n",
    "    print('Упаковка для лыж')  \n",
    "elif width >15 and width <50 or lenght >15 and lenght<50 or heigt >15 and heigt<50:\n",
    "    print('Коробка №2')\n",
    "elif width <15 and lenght <15 and heigt <15:\n",
    "    print('Коробка №1')\n",
    "else:print ('Стандартная коробка №3')"
   ]
  },
  {
   "cell_type": "markdown",
   "metadata": {},
   "source": [
    "* Задание 5 (необязательное)\n",
    "Дана переменная, в которой хранится шестизначное число (номер проездного билета). Напишите программу, которая будет определять, является ли данный билет “счастливым”. Билет считается счастливым, если сумма первых трех цифр совпадает с суммой последних трех цифр номера.\n",
    "\n"
   ]
  },
  {
   "cell_type": "code",
   "execution_count": 37,
   "metadata": {},
   "outputs": [
    {
     "name": "stdout",
     "output_type": "stream",
     "text": [
      "Номер билета (6 цифр): 123321\n",
      "Результат:\n",
      "Cчастливый билет\n"
     ]
    }
   ],
   "source": [
    "number = int(input(\"Номер билета (6 цифр): \"))\n",
    "\n",
    "\n",
    "sum1= int(str(number)[0])+int(str(number)[1])+int(str(number)[2])\n",
    "sum2= int(str(number)[3])+int(str(number)[4])+int(str(number)[5])\n",
    "if sum1==sum2:\n",
    "    print ('Результат:')\n",
    "    print('Cчастливый билет')\n",
    "\n",
    "else:\n",
    "    print ('Результат:')\n",
    "    print('Несчастливый билет')\n",
    "\n",
    "\n"
   ]
  },
  {
   "cell_type": "markdown",
   "metadata": {},
   "source": [
    "* Задание 6 (необязательное)Напишите программу, которая сможет вычислять площади трех фигур (круг, треугольник и прямоугольник). Тип фигуры запрашиваем через пользовательский ввод, после чего делаем запрос характеристик фигуры:"
   ]
  },
  {
   "cell_type": "code",
   "execution_count": 68,
   "metadata": {},
   "outputs": [
    {
     "name": "stdout",
     "output_type": "stream",
     "text": [
      "Введите тип фигуры (круг,прямоугольник,треугольник) треугольник\n",
      "Введите длину стороны A:2\n",
      "Введите длину стороны B:2\n",
      "Введите длину стороны С:3\n",
      "Площадь треугольникa: 1.98\n"
     ]
    }
   ],
   "source": [
    "import math\n",
    "type_fig = str(input(\"Введите тип фигуры (круг,прямоугольник,треугольник) \"))\n",
    "if type_fig.lower() == 'круг': \n",
    "    R = int(input(\"Введите радиус круга:\"))\n",
    "    print ('Площадь круга:', round(R** 2* math.pi,2))\n",
    "elif type_fig.lower() == 'прямоугольник': \n",
    "    A = int(input(\"Введите длину стороны A:\"))\n",
    "    B = int(input(\"Введите длину стороны B:\"))\n",
    "    print ('Площадь прямоугольника:', round(A*B,2))\n",
    "elif type_fig.lower() == 'треугольник': \n",
    "    A = int(input(\"Введите длину стороны A:\"))\n",
    "    B = int(input(\"Введите длину стороны B:\"))\n",
    "    C = int(input(\"Введите длину стороны С:\"))\n",
    "    P=(A+B+C)*0.5\n",
    "    print ('Площадь треугольникa:', round(math.sqrt(P * (P - A) * (P - B) * (P - C)),2))   "
   ]
  },
  {
   "cell_type": "code",
   "execution_count": null,
   "metadata": {},
   "outputs": [],
   "source": []
  }
 ],
 "metadata": {
  "kernelspec": {
   "display_name": "Python 3",
   "language": "python",
   "name": "python3"
  },
  "language_info": {
   "codemirror_mode": {
    "name": "ipython",
    "version": 3
   },
   "file_extension": ".py",
   "mimetype": "text/x-python",
   "name": "python",
   "nbconvert_exporter": "python",
   "pygments_lexer": "ipython3",
   "version": "3.8.5"
  }
 },
 "nbformat": 4,
 "nbformat_minor": 4
}
